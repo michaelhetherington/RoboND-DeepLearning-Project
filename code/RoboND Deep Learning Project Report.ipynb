{
 "cells": [
  {
   "cell_type": "markdown",
   "metadata": {},
   "source": [
    "# Follow Me Project Write-up"
   ]
  },
  {
   "cell_type": "markdown",
   "metadata": {},
   "source": [
    "In this project it was required to train a neural network to identify a target (\"hero\") from a drone with a camera within a simulated urban environment. An following image demonstrates the drone within the environment following the hero.\n",
    "\n",
    "<img src=\"files/writeup_files/quad_following.png\">\n",
    "\n",
    "The steps taken to complete the project were:\n",
    "\n",
    "1. Setting up a local environment with the RoboND Quad Simulator specific for this project.\n",
    "\n",
    "2. Setting up an AWS Amazon Machine Images (AMI). This AMI was used for all coding, training and testing of the model.\n",
    "\n",
    "3. Collecting data from the simulator to train your network. This step is optional because of the extensive traiing dataset provided by Udacity.\n",
    "\n",
    "4. Building a neural network.\n",
    "\n",
    "5. Training the network and extracting the final model and weights from the AWS environment.\n",
    "\n",
    "6. Testing the model with the Follow Me simulator."
   ]
  },
  {
   "cell_type": "markdown",
   "metadata": {},
   "source": [
    "## Step 1: Local environment"
   ]
  },
  {
   "cell_type": "markdown",
   "metadata": {},
   "source": [
    "There were three components to setting up the local environment:\n",
    "\n",
    "1. Installing the required Python tools for the RoboND environment - this was however already complete from earlier lessons\n",
    "2. Installing the QuadSim simulation software\n",
    "3. Downloading the project data\n",
    "\n",
    "The QuadSim simulation software was downloaded from a [Udacity RoboND repository on GitHub.](https://github.com/udacity/RoboND-DeepLearning-Project/releases/latest)\n",
    "\n",
    "The project data was then downloaded from an AWS S3 hosted Udacity data repository. The data downloaded was: [Training Data](https://s3-us-west-1.amazonaws.com/udacity-robotics/Deep+Learning+Data/Lab/train.zip), [Validation Data](https://s3-us-west-1.amazonaws.com/udacity-robotics/Deep+Learning+Data/Lab/validation.zip) and [Sample Evaluation Data](https://s3-us-west-1.amazonaws.com/udacity-robotics/Deep+Learning+Data/Project/sample_evaluation_data.zip)."
   ]
  },
  {
   "cell_type": "markdown",
   "metadata": {},
   "source": [
    "## Step 2: AWS remote environment"
   ]
  },
  {
   "cell_type": "markdown",
   "metadata": {},
   "source": [
    "In this project it is possible to undertake the neural network training on a local PC. Students from earlier cohorts however found that the computational power to train the model to a level that receives a passing submission could exceed 12 hours. As a solution Udacity has encouraged students to use AWS EC2 cloud computing services which offer much greater and more appropriate (i.e. GPU) computing resources. Student credits were also available for use to undertake the training.\n",
    "\n",
    "To establish my AWS environment I created an account, claimed my credits and launched a **p2.xlarge** EC2 instance. I launched this instance with the **Udacity Robotics Deep Learning Laboratory** AMI. This AMI has pre-loaded all the tools required to train a neural network with TensorFlow on GPU hardware.\n",
    "\n",
    "As part of the establishment of my remote environment I also forked from the Udacity GitHub account the RoboND-DeepLearning-Project for my own use on my GitHub account ([Michael Hetherington](https://github.com/michaelhetherington/RoboND-DeepLearning-Project)). I then uploaded all the project data downloaded in Step 1 to my DeepLearning-Project repository. \n",
    "\n",
    "I found this was an effective method to fully manage my project remotely in the cloud. All communications between my AWS EC2 instance and my GitHub repository could then be managed through command line commands. \n",
    "\n",
    "Using the guidance from the course notes I established a Jupyter Notebook service on my AWS EC2 instance that could be accessed through a web browser on a local PC. The command to initiate the Jupyter Notebook service is:\n",
    "```shell\n",
    "jupyter notebook --ip='*' --port=8888 --no-browser\n",
    "```"
   ]
  },
  {
   "cell_type": "markdown",
   "metadata": {},
   "source": [
    "## Step 3: Collecting data from the simulator"
   ]
  },
  {
   "cell_type": "markdown",
   "metadata": {},
   "source": [
    "In previous cohorts collecting data was a substantial task. In later cohorts, mine included, Udacity has provided links to download training, validation and sample evaluation data from a AWS S3 hosted data repository. The download of this data was described in Step 1 and its upload to my GitHub repository in Step 2.\n",
    "\n",
    "The data provided contained:\n",
    "- 4,131 training images\n",
    "- 1,184 validation images\n",
    "- 1,134 sample evaluation images (542 following, 270 patrol_non_target and 322 patrol_w_targ)\n",
    "\n",
    "I sucessfully collected additional data from the simulator over a number of runs but did not use it in training of the model because it was not as good the data that Udacity produced. I simply struggled to collect good examples of images when the drone was either following the hero or simply on patrol.\n",
    "\n",
    "A key lesson learned here is that I have dedicated subtantial time to fine tuning my Hyper Parameters (Step 5) as a substitute for collecting more training data. I chose to focus my efforts on tuning the Hyper Parameters instead of collecting more data because of the success other students have expressed on Slack with the Udacity provided dataset."
   ]
  },
  {
   "cell_type": "markdown",
   "metadata": {},
   "source": [
    "## Step 4: Building a neural network"
   ]
  },
  {
   "cell_type": "markdown",
   "metadata": {},
   "source": []
  },
  {
   "cell_type": "markdown",
   "metadata": {},
   "source": [
    "## Step 5: Training the neural network and extracting the model and weights"
   ]
  },
  {
   "cell_type": "markdown",
   "metadata": {},
   "source": []
  },
  {
   "cell_type": "markdown",
   "metadata": {},
   "source": [
    "## Step 6: Testing the model with Follow Me simulator"
   ]
  },
  {
   "cell_type": "markdown",
   "metadata": {},
   "source": [
    "Insert image of the test"
   ]
  }
 ],
 "metadata": {
  "kernelspec": {
   "display_name": "Python 3",
   "language": "python",
   "name": "python3"
  },
  "language_info": {
   "codemirror_mode": {
    "name": "ipython",
    "version": 3
   },
   "file_extension": ".py",
   "mimetype": "text/x-python",
   "name": "python",
   "nbconvert_exporter": "python",
   "pygments_lexer": "ipython3",
   "version": "3.6.1"
  }
 },
 "nbformat": 4,
 "nbformat_minor": 2
}
